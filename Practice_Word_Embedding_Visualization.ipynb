{
  "nbformat": 4,
  "nbformat_minor": 0,
  "metadata": {
    "kernelspec": {
      "name": "python3",
      "display_name": "Python 3"
    },
    "colab": {
      "name": "Practice_Word Embedding Visualization.ipynb",
      "version": "0.3.2",
      "provenance": [],
      "collapsed_sections": [],
      "include_colab_link": true
    }
  },
  "cells": [
    {
      "cell_type": "markdown",
      "metadata": {
        "id": "view-in-github",
        "colab_type": "text"
      },
      "source": [
        "<a href=\"https://colab.research.google.com/github/bagavijit418/NLP_ALGO_POC/blob/master/Practice_Word_Embedding_Visualization.ipynb\" target=\"_parent\"><img src=\"https://colab.research.google.com/assets/colab-badge.svg\" alt=\"Open In Colab\"/></a>"
      ]
    },
    {
      "cell_type": "markdown",
      "metadata": {
        "id": "qxcjHusHoSVZ",
        "colab_type": "text"
      },
      "source": [
        "<center><u><H1>Word Embedding Visualization</H1></u></center>"
      ]
    },
    {
      "cell_type": "code",
      "metadata": {
        "id": "JYbgPFyaoSVa",
        "colab_type": "code",
        "colab": {}
      },
      "source": [
        "from gensim.models import Word2Vec\n",
        "from sklearn.manifold import TSNE\n",
        "from sklearn.decomposition import PCA\n",
        "import matplotlib.pyplot as plt\n",
        "import numpy as np"
      ],
      "execution_count": 0,
      "outputs": []
    },
    {
      "cell_type": "code",
      "metadata": {
        "id": "uAKH4DCUoSVd",
        "colab_type": "code",
        "colab": {}
      },
      "source": [
        "sentences = [['this', 'is', 'a', 'very', 'good', 'NLP', 'course'],\n",
        "            ['this', 'is', 'a', 'NLP', 'course'],\n",
        "            ['Word2Vec', 'NLP', 'text'],\n",
        "            ['word', 'embedding', 'NLP'],\n",
        "            ['NLP', 'course', 'Word2Vec', 'embedding']]"
      ],
      "execution_count": 0,
      "outputs": []
    },
    {
      "cell_type": "code",
      "metadata": {
        "id": "pJuN9AxJoSVe",
        "colab_type": "code",
        "colab": {}
      },
      "source": [
        "model = Word2Vec(sentences, min_count=1)"
      ],
      "execution_count": 0,
      "outputs": []
    },
    {
      "cell_type": "code",
      "metadata": {
        "id": "VwB3mqKJoSVg",
        "colab_type": "code",
        "outputId": "6b2e57e3-199d-4e99-9ce8-cd36904a5b24",
        "colab": {
          "base_uri": "https://localhost:8080/",
          "height": 34
        }
      },
      "source": [
        "print(model)"
      ],
      "execution_count": 0,
      "outputs": [
        {
          "output_type": "stream",
          "text": [
            "Word2Vec(vocab=11, size=100, alpha=0.025)\n"
          ],
          "name": "stdout"
        }
      ]
    },
    {
      "cell_type": "code",
      "metadata": {
        "id": "0jAfdXJXoSVi",
        "colab_type": "code",
        "outputId": "62df8974-f151-48d7-f4cd-63411bb22937",
        "colab": {
          "base_uri": "https://localhost:8080/",
          "height": 34
        }
      },
      "source": [
        "words = list(model.wv.vocab)\n",
        "print(words)"
      ],
      "execution_count": 0,
      "outputs": [
        {
          "output_type": "stream",
          "text": [
            "['this', 'is', 'a', 'very', 'good', 'NLP', 'course', 'Word2Vec', 'text', 'word', 'embedding']\n"
          ],
          "name": "stdout"
        }
      ]
    },
    {
      "cell_type": "code",
      "metadata": {
        "id": "z8v_RFb1oSVk",
        "colab_type": "code",
        "outputId": "8a8e6dbc-39f5-4a43-cf38-c43e057ef774",
        "colab": {
          "base_uri": "https://localhost:8080/",
          "height": 411
        }
      },
      "source": [
        "print(model['course'])\n",
        "print(len(model['course']))"
      ],
      "execution_count": 0,
      "outputs": [
        {
          "output_type": "stream",
          "text": [
            "[-0.00072203 -0.00022943  0.00091421 -0.00249466  0.00450027  0.00085178\n",
            " -0.00416227 -0.00361134  0.00126013  0.00377714 -0.00451212 -0.00338666\n",
            "  0.00325522 -0.00150879 -0.00151569 -0.00219119 -0.0001539   0.0039786\n",
            "  0.00225634 -0.00410277  0.00298822  0.00354199 -0.00319824  0.00497288\n",
            "  0.00453323 -0.00110766 -0.00467746 -0.00200687 -0.00356016 -0.00421959\n",
            " -0.00121702  0.00429911 -0.00097834  0.00299669  0.00250366 -0.00139625\n",
            " -0.00226799  0.00128403 -0.00022084  0.0015808  -0.00302883 -0.00170165\n",
            " -0.00425392  0.0032544   0.00412443  0.00226191  0.00120906  0.00166014\n",
            " -0.00168444  0.00210907  0.00099218 -0.00440963 -0.00243403 -0.00398688\n",
            "  0.0047249  -0.00470734  0.00266298 -0.00415373  0.00406632  0.00260468\n",
            " -0.00151565  0.00270928  0.00161311  0.00238724  0.00105494  0.00449403\n",
            "  0.0030712  -0.00392378 -0.00235294 -0.00314616  0.0025978   0.00317352\n",
            "  0.00380143  0.00153437 -0.00313636 -0.00444937 -0.00394902  0.00155255\n",
            "  0.00084791  0.00126084  0.00129853 -0.00410808 -0.00160637 -0.00117715\n",
            "  0.00139017  0.00245471 -0.00320324 -0.00116518 -0.00230405 -0.00384706\n",
            " -0.0042183   0.00300602 -0.00169535  0.00290243 -0.00252497 -0.00280472\n",
            "  0.00347435 -0.00122029 -0.00495986 -0.004979  ]\n",
            "100\n"
          ],
          "name": "stdout"
        },
        {
          "output_type": "stream",
          "text": [
            "/usr/local/lib/python3.6/dist-packages/ipykernel_launcher.py:1: DeprecationWarning: Call to deprecated `__getitem__` (Method will be removed in 4.0.0, use self.wv.__getitem__() instead).\n",
            "  \"\"\"Entry point for launching an IPython kernel.\n",
            "/usr/local/lib/python3.6/dist-packages/ipykernel_launcher.py:2: DeprecationWarning: Call to deprecated `__getitem__` (Method will be removed in 4.0.0, use self.wv.__getitem__() instead).\n",
            "  \n"
          ],
          "name": "stderr"
        }
      ]
    },
    {
      "cell_type": "code",
      "metadata": {
        "id": "-lNxPCe6oSVm",
        "colab_type": "code",
        "outputId": "fada7ab3-1cd3-4a3d-8038-6468e280c6a9",
        "colab": {
          "base_uri": "https://localhost:8080/",
          "height": 71
        }
      },
      "source": [
        "model.save('word_embeddings_model.bin')"
      ],
      "execution_count": 0,
      "outputs": [
        {
          "output_type": "stream",
          "text": [
            "/usr/local/lib/python3.6/dist-packages/smart_open/smart_open_lib.py:398: UserWarning: This function is deprecated, use smart_open.open instead. See the migration notes for details: https://github.com/RaRe-Technologies/smart_open/blob/master/README.rst#migrating-to-the-new-open-function\n",
            "  'See the migration notes for details: %s' % _MIGRATION_NOTES_URL\n"
          ],
          "name": "stderr"
        }
      ]
    },
    {
      "cell_type": "code",
      "metadata": {
        "id": "TA9wPjJLoSVn",
        "colab_type": "code",
        "outputId": "138a3459-6655-4a20-cc4b-a1def46dd397",
        "colab": {
          "base_uri": "https://localhost:8080/",
          "height": 88
        }
      },
      "source": [
        "new_model = Word2Vec.load('word_embeddings_model.bin')\n",
        "print(new_model)"
      ],
      "execution_count": 0,
      "outputs": [
        {
          "output_type": "stream",
          "text": [
            "Word2Vec(vocab=11, size=100, alpha=0.025)\n"
          ],
          "name": "stdout"
        },
        {
          "output_type": "stream",
          "text": [
            "/usr/local/lib/python3.6/dist-packages/smart_open/smart_open_lib.py:398: UserWarning: This function is deprecated, use smart_open.open instead. See the migration notes for details: https://github.com/RaRe-Technologies/smart_open/blob/master/README.rst#migrating-to-the-new-open-function\n",
            "  'See the migration notes for details: %s' % _MIGRATION_NOTES_URL\n"
          ],
          "name": "stderr"
        }
      ]
    },
    {
      "cell_type": "markdown",
      "metadata": {
        "id": "owMdcNS_oSVp",
        "colab_type": "text"
      },
      "source": [
        "## Visualizing Word Embeddings:"
      ]
    },
    {
      "cell_type": "code",
      "metadata": {
        "id": "W3NZbYA8oSVq",
        "colab_type": "code",
        "outputId": "e88ae786-af40-470c-aa27-5794897ae958",
        "colab": {
          "base_uri": "https://localhost:8080/",
          "height": 71
        }
      },
      "source": [
        "X = model[model.wv.vocab]"
      ],
      "execution_count": 0,
      "outputs": [
        {
          "output_type": "stream",
          "text": [
            "/usr/local/lib/python3.6/dist-packages/ipykernel_launcher.py:1: DeprecationWarning: Call to deprecated `__getitem__` (Method will be removed in 4.0.0, use self.wv.__getitem__() instead).\n",
            "  \"\"\"Entry point for launching an IPython kernel.\n"
          ],
          "name": "stderr"
        }
      ]
    },
    {
      "cell_type": "code",
      "metadata": {
        "id": "MVjjQDw2oSVr",
        "colab_type": "code",
        "outputId": "878affa3-a9d1-4c18-a828-d06e6237ff85",
        "colab": {
          "base_uri": "https://localhost:8080/",
          "height": 34
        }
      },
      "source": [
        "X.shape"
      ],
      "execution_count": 0,
      "outputs": [
        {
          "output_type": "execute_result",
          "data": {
            "text/plain": [
              "(11, 100)"
            ]
          },
          "metadata": {
            "tags": []
          },
          "execution_count": 13
        }
      ]
    },
    {
      "cell_type": "code",
      "metadata": {
        "id": "9d9v9-sEoSVt",
        "colab_type": "code",
        "colab": {}
      },
      "source": [
        "pca = PCA(n_components=2)\n",
        "result = pca.fit_transform(X)"
      ],
      "execution_count": 0,
      "outputs": []
    },
    {
      "cell_type": "code",
      "metadata": {
        "id": "308r4pzurwom",
        "colab_type": "code",
        "outputId": "b2320743-df6f-429e-cc2a-83e3afc93886",
        "colab": {
          "base_uri": "https://localhost:8080/",
          "height": 286
        }
      },
      "source": [
        "plt.scatter(result[:, 0], result[:, 1])"
      ],
      "execution_count": 0,
      "outputs": [
        {
          "output_type": "execute_result",
          "data": {
            "text/plain": [
              "<matplotlib.collections.PathCollection at 0x7f4c17973278>"
            ]
          },
          "metadata": {
            "tags": []
          },
          "execution_count": 20
        },
        {
          "output_type": "display_data",
          "data": {
            "image/png": "[encoded data removed]",
            "text/plain": [
              "<Figure size 432x288 with 1 Axes>"
            ]
          },
          "metadata": {
            "tags": []
          }
        }
      ]
    },
    {
      "cell_type": "code",
      "metadata": {
        "id": "aKTDQAtir8lj",
        "colab_type": "code",
        "outputId": "5af1aef1-f533-4e84-8a02-05fdcf6d0ab7",
        "colab": {
          "base_uri": "https://localhost:8080/",
          "height": 204
        }
      },
      "source": [
        "result"
      ],
      "execution_count": 0,
      "outputs": [
        {
          "output_type": "execute_result",
          "data": {
            "text/plain": [
              "array([[-0.00340887,  0.0180916 ],\n",
              "       [-0.00286914, -0.00177143],\n",
              "       [ 0.00978112,  0.01606301],\n",
              "       [-0.01571727,  0.00539172],\n",
              "       [-0.01270005, -0.01647059],\n",
              "       [ 0.01131807, -0.00868518],\n",
              "       [ 0.01821805, -0.0006509 ],\n",
              "       [-0.01016435, -0.00161649],\n",
              "       [-0.01139659,  0.00493227],\n",
              "       [ 0.01366539, -0.00240447],\n",
              "       [ 0.00327363, -0.01287953]], dtype=float32)"
            ]
          },
          "metadata": {
            "tags": []
          },
          "execution_count": 21
        }
      ]
    },
    {
      "cell_type": "code",
      "metadata": {
        "id": "vZLm7NzmoSVv",
        "colab_type": "code",
        "outputId": "fbcbabad-2319-4d7f-944e-679f35117074",
        "colab": {
          "base_uri": "https://localhost:8080/",
          "height": 269
        }
      },
      "source": [
        "plt.scatter(result[:, 0], result[:, 1])\n",
        "words = list(model.wv.vocab)\n",
        "for i, word in enumerate(words):\n",
        "    plt.annotate(word, xy=(result[i, 0], result[i, 1]))\n",
        "plt.show()"
      ],
      "execution_count": 0,
      "outputs": [
        {
          "output_type": "display_data",
          "data": {
            "image/png": "[encoded data removed]",
            "text/plain": [
              "<Figure size 432x288 with 1 Axes>"
            ]
          },
          "metadata": {
            "tags": []
          }
        }
      ]
    },
    {
      "cell_type": "markdown",
      "metadata": {
        "id": "X2t6Ko7_oSVx",
        "colab_type": "text"
      },
      "source": [
        "## Load Google's Word2Vec Embedding -- Do not run the below as will need 3.5 GB space to download the google model"
      ]
    },
    {
      "cell_type": "code",
      "metadata": {
        "colab_type": "code",
        "id": "XMF2E6blxRmm",
        "colab": {}
      },
      "source": [
        "import gzip\n",
        "import urllib.request\n",
        "\n",
        "baseURL = \"https://s3.amazonaws.com/dl4j-distribution/\"\n",
        "filename = \"GoogleNews-vectors-negative300.bin.gz\"\n",
        "outFilePath = filename[:-3]\n",
        "\n",
        "response = urllib.request.urlopen(baseURL + filename)\n",
        "with open(outFilePath, 'wb') as outfile:\n",
        "    outfile.write(gzip.decompress(response.read()))"
      ],
      "execution_count": 0,
      "outputs": []
    },
    {
      "cell_type": "code",
      "metadata": {
        "id": "ID42XoCXoSVy",
        "colab_type": "code",
        "colab": {}
      },
      "source": [
        "from gensim.models import KeyedVectors\n",
        "filename = 'GoogleNews-vectors-negative300.bin'\n",
        "model = KeyedVectors.load_word2vec_format(filename, binary=True)"
      ],
      "execution_count": 0,
      "outputs": []
    },
    {
      "cell_type": "code",
      "metadata": {
        "id": "stuYb0zKoSV0",
        "colab_type": "code",
        "colab": {}
      },
      "source": [
        "#queen = (king - man) + woman\n",
        "result = model.most_similar(positive=['woman', 'king'], negative=['man'], topn=1)\n",
        "print(result)"
      ],
      "execution_count": 0,
      "outputs": []
    },
    {
      "cell_type": "markdown",
      "metadata": {
        "id": "72wkHQdUoSV2",
        "colab_type": "text"
      },
      "source": [
        "## Reference:\n",
        "\n",
        "GoogleNews-vectors: https://drive.google.com/file/d/0B7XkCwpI5KDYNlNUTTlSS21pQmM/edit"
      ]
    }
  ]
}